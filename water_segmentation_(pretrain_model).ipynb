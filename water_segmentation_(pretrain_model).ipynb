{
  "nbformat": 4,
  "nbformat_minor": 0,
  "metadata": {
    "colab": {
      "provenance": [],
      "authorship_tag": "ABX9TyPcW9OeYNsQC9ecQw2+Vt3O",
      "include_colab_link": true
    },
    "kernelspec": {
      "name": "python3",
      "display_name": "Python 3"
    },
    "language_info": {
      "name": "python"
    }
  },
  "cells": [
    {
      "cell_type": "markdown",
      "metadata": {
        "id": "view-in-github",
        "colab_type": "text"
      },
      "source": [
        "<a href=\"https://colab.research.google.com/github/asmaamuhamed20/water-segmentation/blob/main/water_segmentation_(pretrain_model).ipynb\" target=\"_parent\"><img src=\"https://colab.research.google.com/assets/colab-badge.svg\" alt=\"Open In Colab\"/></a>"
      ]
    },
    {
      "cell_type": "code",
      "source": [
        "from google.colab import drive\n",
        "drive.mount('/content/drive')"
      ],
      "metadata": {
        "colab": {
          "base_uri": "https://localhost:8080/"
        },
        "id": "7ns8VR0E9aXg",
        "outputId": "0f232572-8ba0-4f99-cb14-5c4ee510ad95"
      },
      "execution_count": 139,
      "outputs": [
        {
          "output_type": "stream",
          "name": "stdout",
          "text": [
            "Drive already mounted at /content/drive; to attempt to forcibly remount, call drive.mount(\"/content/drive\", force_remount=True).\n"
          ]
        }
      ]
    },
    {
      "cell_type": "code",
      "source": [
        "import os\n",
        "import numpy as np\n",
        "import tifffile\n",
        "import tensorflow as tf\n",
        "import matplotlib.pyplot as plt\n",
        "from tensorflow.keras.layers import Input, Conv2D, UpSampling2D, concatenate, BatchNormalization, Activation\n",
        "from tensorflow.keras.models import Model\n",
        "from tensorflow.keras.applications import ResNet50\n",
        "import tensorflow.keras.backend as K"
      ],
      "metadata": {
        "id": "CZmN0biN_MyZ"
      },
      "execution_count": 152,
      "outputs": []
    },
    {
      "cell_type": "code",
      "source": [
        "image_folder = '/content/drive/MyDrive/satalite_data2/images'\n",
        "mask_folder = '/content/drive/MyDrive/satalite_data2/labels'"
      ],
      "metadata": {
        "id": "1A9673R8_3FN"
      },
      "execution_count": null,
      "outputs": []
    },
    {
      "cell_type": "code",
      "source": [],
      "metadata": {
        "id": "cAQR5LwC_4Zh"
      },
      "execution_count": null,
      "outputs": []
    },
    {
      "cell_type": "code",
      "source": [
        "def load_image(image_path):\n",
        "    path = image_path.numpy().decode('utf-8')\n",
        "    img = tifffile.imread(path).astype(np.float32) / 65535.0\n",
        "    return img\n",
        "\n",
        "def load_image_tf(image_path):\n",
        "    img = tf.py_function(load_image, [image_path], tf.float32)\n",
        "    img.set_shape([128, 128, 12])\n",
        "    return img\n",
        "\n",
        "def load_mask(mask_path):\n",
        "    mask = tf.io.read_file(mask_path)\n",
        "    mask = tf.image.decode_png(mask, channels=1)\n",
        "    mask = tf.cast(mask > 127, tf.float32)\n",
        "    mask.set_shape([128, 128, 1])\n",
        "    return mask\n",
        "\n",
        "def load_and_preprocess(image_path, mask_path):\n",
        "    image = load_image_tf(image_path)\n",
        "    mask = load_mask(mask_path)\n",
        "    return image, mask\n"
      ],
      "metadata": {
        "id": "GqYTYjUw_RZC"
      },
      "execution_count": 153,
      "outputs": []
    },
    {
      "cell_type": "code",
      "source": [
        "image_paths_ds = tf.data.Dataset.from_tensor_slices(valid_image_paths)\n",
        "mask_paths_ds = tf.data.Dataset.from_tensor_slices(valid_mask_paths)\n",
        "dataset = tf.data.Dataset.zip((image_paths_ds, mask_paths_ds))\n",
        "dataset = dataset.map(load_and_preprocess, num_parallel_calls=tf.data.AUTOTUNE)\n",
        "dataset = dataset.shuffle(buffer_size=100).batch(16).prefetch(tf.data.AUTOTUNE)\n"
      ],
      "metadata": {
        "id": "TIX_DdWb_WjJ"
      },
      "execution_count": 154,
      "outputs": []
    },
    {
      "cell_type": "code",
      "source": [
        "def iou_metric(y_true, y_pred, smooth=1e-6):\n",
        "    y_pred = K.cast(y_pred > 0.5, 'float32')\n",
        "    intersection = K.sum(y_true * y_pred)\n",
        "    union = K.sum(y_true) + K.sum(y_pred) - intersection\n",
        "    return (intersection + smooth) / (union + smooth)\n"
      ],
      "metadata": {
        "id": "PGUxqi5K_aYq"
      },
      "execution_count": 155,
      "outputs": []
    },
    {
      "cell_type": "code",
      "source": [
        "import matplotlib.pyplot as plt\n",
        "\n",
        "def visualize_sample(dataset, index=0):\n",
        "    for image, mask in dataset.skip(index).take(1):\n",
        "        image_np = image.numpy()\n",
        "        mask_np = mask.numpy().squeeze()\n",
        "\n",
        "        fig, axes = plt.subplots(3, 4, figsize=(12, 9))\n",
        "        for i in range(12):\n",
        "            ax = axes[i//4, i%4]\n",
        "            ax.imshow(image_np[:, :, i], cmap='gray')\n",
        "            ax.set_title(f'Band {i+1}')\n",
        "            ax.axis('off')\n",
        "\n",
        "        plt.tight_layout()\n",
        "        plt.show()\n",
        "\n",
        "        plt.figure(figsize=(4, 4))\n",
        "        plt.imshow(mask_np, cmap='gray')\n",
        "        plt.title(\"Mask\")\n",
        "        plt.axis('off')\n",
        "        plt.show()\n",
        "\n",
        "\n",
        "visualize_sample(dataset)"
      ],
      "metadata": {
        "id": "Q3553YoJAKL6"
      },
      "execution_count": null,
      "outputs": []
    },
    {
      "cell_type": "code",
      "source": [
        "def unet_resnet50(input_shape=(128, 128, 12)):\n",
        "    base_model = ResNet50(include_top=False, weights=None, input_shape=input_shape)\n",
        "\n",
        "    for layer in base_model.layers:\n",
        "        layer.trainable = True\n",
        "\n",
        "    skip_names = [\"conv1_relu\", \"conv2_block3_out\", \"conv3_block4_out\", \"conv4_block6_out\"]\n",
        "    skips = [base_model.get_layer(name).output for name in skip_names]\n",
        "\n",
        "    x = base_model.output\n",
        "\n",
        "    def conv_block(x, filters):\n",
        "        x = Conv2D(filters, 3, padding=\"same\")(x)\n",
        "        x = BatchNormalization()(x)\n",
        "        x = Activation(\"relu\")(x)\n",
        "        return x\n",
        "\n",
        "    x = UpSampling2D()(x)\n",
        "    x = concatenate([x, skips[-1]])\n",
        "    x = conv_block(x, 512)\n",
        "\n",
        "    x = UpSampling2D()(x)\n",
        "    x = concatenate([x, skips[-2]])\n",
        "    x = conv_block(x, 256)\n",
        "\n",
        "    x = UpSampling2D()(x)\n",
        "    x = concatenate([x, skips[-3]])\n",
        "    x = conv_block(x, 128)\n",
        "\n",
        "    x = UpSampling2D()(x)\n",
        "    x = concatenate([x, skips[-4]])\n",
        "    x = conv_block(x, 64)\n",
        "\n",
        "    x = UpSampling2D()(x)\n",
        "    x = conv_block(x, 32)\n",
        "\n",
        "    outputs = Conv2D(1, 1, activation=\"sigmoid\")(x)\n",
        "\n",
        "    model = Model(inputs=base_model.input, outputs=outputs)\n",
        "    return model"
      ],
      "metadata": {
        "id": "XatKI68K_fKM"
      },
      "execution_count": 156,
      "outputs": []
    },
    {
      "cell_type": "code",
      "source": [
        "# ========== تدريب الموديل ==========\n",
        "model = unet_resnet50()\n",
        "model.compile(optimizer='adam', loss='binary_crossentropy', metrics=['accuracy', iou_metric])\n",
        "model.fit(dataset, epochs=20)"
      ],
      "metadata": {
        "colab": {
          "base_uri": "https://localhost:8080/"
        },
        "id": "-Y2W84K0_heB",
        "outputId": "226f4b4f-4eec-452f-c533-321eb2f5c192"
      },
      "execution_count": 157,
      "outputs": [
        {
          "output_type": "stream",
          "name": "stdout",
          "text": [
            "Epoch 1/20\n",
            "\u001b[1m20/20\u001b[0m \u001b[32m━━━━━━━━━━━━━━━━━━━━\u001b[0m\u001b[37m\u001b[0m \u001b[1m317s\u001b[0m 13s/step - accuracy: 0.8494 - iou_metric: 0.0120 - loss: 0.4673\n",
            "Epoch 2/20\n",
            "\u001b[1m20/20\u001b[0m \u001b[32m━━━━━━━━━━━━━━━━━━━━\u001b[0m\u001b[37m\u001b[0m \u001b[1m250s\u001b[0m 12s/step - accuracy: 0.9986 - iou_metric: 0.3127 - loss: 0.1832\n",
            "Epoch 3/20\n",
            "\u001b[1m20/20\u001b[0m \u001b[32m━━━━━━━━━━━━━━━━━━━━\u001b[0m\u001b[37m\u001b[0m \u001b[1m254s\u001b[0m 13s/step - accuracy: 0.9994 - iou_metric: 0.6301 - loss: 0.1395\n",
            "Epoch 4/20\n",
            "\u001b[1m20/20\u001b[0m \u001b[32m━━━━━━━━━━━━━━━━━━━━\u001b[0m\u001b[37m\u001b[0m \u001b[1m250s\u001b[0m 12s/step - accuracy: 0.9999 - iou_metric: 0.6873 - loss: 0.1038\n",
            "Epoch 5/20\n",
            "\u001b[1m20/20\u001b[0m \u001b[32m━━━━━━━━━━━━━━━━━━━━\u001b[0m\u001b[37m\u001b[0m \u001b[1m263s\u001b[0m 12s/step - accuracy: 0.9999 - iou_metric: 0.8530 - loss: 0.0792\n",
            "Epoch 6/20\n",
            "\u001b[1m20/20\u001b[0m \u001b[32m━━━━━━━━━━━━━━━━━━━━\u001b[0m\u001b[37m\u001b[0m \u001b[1m251s\u001b[0m 12s/step - accuracy: 0.9997 - iou_metric: 0.4907 - loss: 0.0635\n",
            "Epoch 7/20\n",
            "\u001b[1m20/20\u001b[0m \u001b[32m━━━━━━━━━━━━━━━━━━━━\u001b[0m\u001b[37m\u001b[0m \u001b[1m264s\u001b[0m 13s/step - accuracy: 1.0000 - iou_metric: 0.7281 - loss: 0.0530\n",
            "Epoch 8/20\n",
            "\u001b[1m20/20\u001b[0m \u001b[32m━━━━━━━━━━━━━━━━━━━━\u001b[0m\u001b[37m\u001b[0m \u001b[1m251s\u001b[0m 12s/step - accuracy: 1.0000 - iou_metric: 1.0000 - loss: 0.0456\n",
            "Epoch 9/20\n",
            "\u001b[1m20/20\u001b[0m \u001b[32m━━━━━━━━━━━━━━━━━━━━\u001b[0m\u001b[37m\u001b[0m \u001b[1m264s\u001b[0m 13s/step - accuracy: 1.0000 - iou_metric: 0.9701 - loss: 0.0391\n",
            "Epoch 10/20\n",
            "\u001b[1m20/20\u001b[0m \u001b[32m━━━━━━━━━━━━━━━━━━━━\u001b[0m\u001b[37m\u001b[0m \u001b[1m260s\u001b[0m 12s/step - accuracy: 1.0000 - iou_metric: 1.0000 - loss: 0.0334\n",
            "Epoch 11/20\n",
            "\u001b[1m20/20\u001b[0m \u001b[32m━━━━━━━━━━━━━━━━━━━━\u001b[0m\u001b[37m\u001b[0m \u001b[1m261s\u001b[0m 12s/step - accuracy: 1.0000 - iou_metric: 1.0000 - loss: 0.0290\n",
            "Epoch 12/20\n",
            "\u001b[1m20/20\u001b[0m \u001b[32m━━━━━━━━━━━━━━━━━━━━\u001b[0m\u001b[37m\u001b[0m \u001b[1m250s\u001b[0m 12s/step - accuracy: 1.0000 - iou_metric: 0.9701 - loss: 0.0251\n",
            "Epoch 13/20\n",
            "\u001b[1m20/20\u001b[0m \u001b[32m━━━━━━━━━━━━━━━━━━━━\u001b[0m\u001b[37m\u001b[0m \u001b[1m261s\u001b[0m 12s/step - accuracy: 1.0000 - iou_metric: 0.8106 - loss: 0.0222\n",
            "Epoch 14/20\n",
            "\u001b[1m20/20\u001b[0m \u001b[32m━━━━━━━━━━━━━━━━━━━━\u001b[0m\u001b[37m\u001b[0m \u001b[1m262s\u001b[0m 12s/step - accuracy: 1.0000 - iou_metric: 0.8996 - loss: 0.0196\n",
            "Epoch 15/20\n",
            "\u001b[1m20/20\u001b[0m \u001b[32m━━━━━━━━━━━━━━━━━━━━\u001b[0m\u001b[37m\u001b[0m \u001b[1m262s\u001b[0m 12s/step - accuracy: 1.0000 - iou_metric: 1.0000 - loss: 0.0174\n",
            "Epoch 16/20\n",
            "\u001b[1m20/20\u001b[0m \u001b[32m━━━━━━━━━━━━━━━━━━━━\u001b[0m\u001b[37m\u001b[0m \u001b[1m251s\u001b[0m 12s/step - accuracy: 1.0000 - iou_metric: 1.0000 - loss: 0.0154\n",
            "Epoch 17/20\n",
            "\u001b[1m20/20\u001b[0m \u001b[32m━━━━━━━━━━━━━━━━━━━━\u001b[0m\u001b[37m\u001b[0m \u001b[1m250s\u001b[0m 12s/step - accuracy: 1.0000 - iou_metric: 1.0000 - loss: 0.0139\n",
            "Epoch 18/20\n",
            "\u001b[1m20/20\u001b[0m \u001b[32m━━━━━━━━━━━━━━━━━━━━\u001b[0m\u001b[37m\u001b[0m \u001b[1m264s\u001b[0m 13s/step - accuracy: 1.0000 - iou_metric: 1.0000 - loss: 0.0125\n",
            "Epoch 19/20\n",
            "\u001b[1m20/20\u001b[0m \u001b[32m━━━━━━━━━━━━━━━━━━━━\u001b[0m\u001b[37m\u001b[0m \u001b[1m251s\u001b[0m 12s/step - accuracy: 1.0000 - iou_metric: 1.0000 - loss: 0.0114\n",
            "Epoch 20/20\n",
            "\u001b[1m20/20\u001b[0m \u001b[32m━━━━━━━━━━━━━━━━━━━━\u001b[0m\u001b[37m\u001b[0m \u001b[1m263s\u001b[0m 13s/step - accuracy: 1.0000 - iou_metric: 1.0000 - loss: 0.0104\n"
          ]
        },
        {
          "output_type": "execute_result",
          "data": {
            "text/plain": [
              "<keras.src.callbacks.history.History at 0x7ab229a21250>"
            ]
          },
          "metadata": {},
          "execution_count": 157
        }
      ]
    }
  ]
}